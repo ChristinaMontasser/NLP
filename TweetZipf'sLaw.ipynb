{
 "cells": [
  {
   "cell_type": "code",
   "execution_count": 1,
   "metadata": {},
   "outputs": [],
   "source": [
    "import pandas as pd\n",
    "import numpy as np\n",
    "import  matplotlib.pyplot  as plt\n",
    "from sklearn.model_selection import train_test_split"
   ]
  },
  {
   "cell_type": "code",
   "execution_count": 2,
   "metadata": {},
   "outputs": [],
   "source": [
    "df = pd.read_csv(\"training.1600000.processed.noemoticon.csv\", encoding=\"latin1\")"
   ]
  },
  {
   "cell_type": "code",
   "execution_count": 3,
   "metadata": {},
   "outputs": [],
   "source": [
    "df.columns= ['target', 'ids', 'date', 'queryFlag', 'user', 'text']"
   ]
  },
  {
   "cell_type": "code",
   "execution_count": 4,
   "metadata": {},
   "outputs": [],
   "source": [
    "x = df.drop(['ids', 'date', 'queryFlag', 'user'], axis=1)\n",
    "X_train, X_test=train_test_split(x)"
   ]
  },
  {
   "cell_type": "code",
   "execution_count": 5,
   "metadata": {},
   "outputs": [
    {
     "data": {
      "text/html": [
       "<div>\n",
       "<style scoped>\n",
       "    .dataframe tbody tr th:only-of-type {\n",
       "        vertical-align: middle;\n",
       "    }\n",
       "\n",
       "    .dataframe tbody tr th {\n",
       "        vertical-align: top;\n",
       "    }\n",
       "\n",
       "    .dataframe thead th {\n",
       "        text-align: right;\n",
       "    }\n",
       "</style>\n",
       "<table border=\"1\" class=\"dataframe\">\n",
       "  <thead>\n",
       "    <tr style=\"text-align: right;\">\n",
       "      <th></th>\n",
       "      <th>target</th>\n",
       "      <th>text</th>\n",
       "    </tr>\n",
       "  </thead>\n",
       "  <tbody>\n",
       "    <tr>\n",
       "      <th>705923</th>\n",
       "      <td>0</td>\n",
       "      <td>@ValeriaLuciana i miss you stup*idd!  i need y...</td>\n",
       "    </tr>\n",
       "    <tr>\n",
       "      <th>146128</th>\n",
       "      <td>0</td>\n",
       "      <td>@MatthewCGoto so sad I won't be joining  have ...</td>\n",
       "    </tr>\n",
       "    <tr>\n",
       "      <th>1342697</th>\n",
       "      <td>4</td>\n",
       "      <td>Listening to iTunes on shuffle and straighteni...</td>\n",
       "    </tr>\n",
       "    <tr>\n",
       "      <th>57078</th>\n",
       "      <td>0</td>\n",
       "      <td>I have dark spots on my eyes... I thought a be...</td>\n",
       "    </tr>\n",
       "    <tr>\n",
       "      <th>1284440</th>\n",
       "      <td>4</td>\n",
       "      <td>@ausher8 I guess you were an exception, to hav...</td>\n",
       "    </tr>\n",
       "    <tr>\n",
       "      <th>...</th>\n",
       "      <td>...</td>\n",
       "      <td>...</td>\n",
       "    </tr>\n",
       "    <tr>\n",
       "      <th>432433</th>\n",
       "      <td>0</td>\n",
       "      <td>Not wanting to go to work</td>\n",
       "    </tr>\n",
       "    <tr>\n",
       "      <th>1421683</th>\n",
       "      <td>4</td>\n",
       "      <td>no rain!  and the wedding was beautiful. the b...</td>\n",
       "    </tr>\n",
       "    <tr>\n",
       "      <th>1540670</th>\n",
       "      <td>4</td>\n",
       "      <td>i'll be back when Spain starts playing against...</td>\n",
       "    </tr>\n",
       "    <tr>\n",
       "      <th>81101</th>\n",
       "      <td>0</td>\n",
       "      <td>@IamBubbles We don't have Dunkin's here.</td>\n",
       "    </tr>\n",
       "    <tr>\n",
       "      <th>568357</th>\n",
       "      <td>0</td>\n",
       "      <td>bored about to go to work</td>\n",
       "    </tr>\n",
       "  </tbody>\n",
       "</table>\n",
       "<p>1199999 rows × 2 columns</p>\n",
       "</div>"
      ],
      "text/plain": [
       "         target                                               text\n",
       "705923        0  @ValeriaLuciana i miss you stup*idd!  i need y...\n",
       "146128        0  @MatthewCGoto so sad I won't be joining  have ...\n",
       "1342697       4  Listening to iTunes on shuffle and straighteni...\n",
       "57078         0  I have dark spots on my eyes... I thought a be...\n",
       "1284440       4  @ausher8 I guess you were an exception, to hav...\n",
       "...         ...                                                ...\n",
       "432433        0                         Not wanting to go to work \n",
       "1421683       4  no rain!  and the wedding was beautiful. the b...\n",
       "1540670       4  i'll be back when Spain starts playing against...\n",
       "81101         0          @IamBubbles We don't have Dunkin's here. \n",
       "568357        0                         bored about to go to work \n",
       "\n",
       "[1199999 rows x 2 columns]"
      ]
     },
     "execution_count": 5,
     "metadata": {},
     "output_type": "execute_result"
    }
   ],
   "source": [
    "X_train"
   ]
  },
  {
   "cell_type": "code",
   "execution_count": 6,
   "metadata": {},
   "outputs": [],
   "source": [
    "X_train=X_train.sort_values('target')"
   ]
  },
  {
   "cell_type": "code",
   "execution_count": 7,
   "metadata": {},
   "outputs": [],
   "source": [
    "y_train=X_train['target']\n",
    "X_train = X_train.drop('target', axis=1)"
   ]
  },
  {
   "cell_type": "code",
   "execution_count": 8,
   "metadata": {},
   "outputs": [
    {
     "data": {
      "text/plain": [
       "705923     0\n",
       "461519     0\n",
       "681877     0\n",
       "33261      0\n",
       "482294     0\n",
       "          ..\n",
       "1480714    4\n",
       "1532748    4\n",
       "1464726    4\n",
       "1305263    4\n",
       "907167     4\n",
       "Name: target, Length: 1199999, dtype: int64"
      ]
     },
     "execution_count": 8,
     "metadata": {},
     "output_type": "execute_result"
    }
   ],
   "source": [
    "y_train"
   ]
  },
  {
   "cell_type": "code",
   "execution_count": 19,
   "metadata": {},
   "outputs": [
    {
     "data": {
      "text/plain": [
       "599890"
      ]
     },
     "execution_count": 19,
     "metadata": {},
     "output_type": "execute_result"
    }
   ],
   "source": [
    "len(y_train[y_train==4])"
   ]
  },
  {
   "cell_type": "code",
   "execution_count": 10,
   "metadata": {},
   "outputs": [],
   "source": [
    "X_test = X_test.sort_values('target')\n",
    "y_test = X_test['target']\n",
    "X_test = X_test.drop('target', axis=1)"
   ]
  },
  {
   "cell_type": "code",
   "execution_count": 13,
   "metadata": {},
   "outputs": [],
   "source": [
    "from sklearn.feature_extraction.text import CountVectorizer\n",
    "cvz = CountVectorizer(stop_words='english', max_features=10000)\n",
    "\n",
    "docMatrix=cvz.fit_transform(X_train.text)"
   ]
  },
  {
   "cell_type": "code",
   "execution_count": 18,
   "metadata": {},
   "outputs": [
    {
     "data": {
      "text/plain": [
       "<1199999x10000 sparse matrix of type '<class 'numpy.int64'>'\n",
       "\twith 6952618 stored elements in Compressed Sparse Row format>"
      ]
     },
     "execution_count": 18,
     "metadata": {},
     "output_type": "execute_result"
    }
   ],
   "source": [
    "docMatrix"
   ]
  },
  {
   "cell_type": "code",
   "execution_count": 14,
   "metadata": {},
   "outputs": [
    {
     "data": {
      "text/plain": [
       "array(['amp', 'amsterdam', 'amuse', 'amused', 'amusing', 'amy', 'ana',\n",
       "       'anal', 'analysis', 'anatomy', 'anberlin', 'ancient', 'anderson',\n",
       "       'andre', 'andrea', 'andrew', 'android', 'andy', 'andyclemmensen',\n",
       "       'andyhurleyday', 'ang', 'angel', 'angela', 'angeles', 'angels',\n",
       "       'anger', 'angie', 'angry', 'anh', 'animal', 'animals', 'animated',\n",
       "       'animation', 'anime', 'ankle', 'ankles', 'ann', 'anna', 'anne',\n",
       "       'annie', 'anniversary', 'announce', 'announced', 'announcement',\n",
       "       'annoy', 'annoyed', 'annoying', 'annoys', 'annual', 'ano', 'anoop',\n",
       "       'anoopdoggdesai', 'ans', 'answer', 'answered', 'answering',\n",
       "       'answers', 'ant', 'anthem', 'anthony', 'anti', 'antibiotics',\n",
       "       'anticipation', 'antonio', 'ants', 'anxiety', 'anxious',\n",
       "       'anxiously', 'any1', 'anybody', 'anymore', 'anythin', 'anytime',\n",
       "       'anyways', 'anywho', 'ap', 'apa', 'apart', 'apartment', 'api',\n",
       "       'aplusk', 'apologies', 'apologize', 'app', 'apparently',\n",
       "       'appealing', 'appear', 'appearance', 'appeared', 'appears',\n",
       "       'appetite', 'apple', 'apples', 'application', 'applications',\n",
       "       'applied', 'apply', 'applying', 'appointment', 'appointments'],\n",
       "      dtype=object)"
      ]
     },
     "execution_count": 14,
     "metadata": {},
     "output_type": "execute_result"
    }
   ],
   "source": [
    "cvz.get_feature_names_out()[500:600]"
   ]
  },
  {
   "cell_type": "code",
   "execution_count": 20,
   "metadata": {},
   "outputs": [
    {
     "name": "stdout",
     "output_type": "stream",
     "text": [
      "66678 entries' term freuquency calculated\n",
      "133357 entries' term freuquency calculated\n",
      "200036 entries' term freuquency calculated\n",
      "266715 entries' term freuquency calculated\n",
      "333393 entries' term freuquency calculated\n",
      "400072 entries' term freuquency calculated\n",
      "466751 entries' term freuquency calculated\n",
      "533430 entries' term freuquency calculated\n",
      "600109 entries' term freuquency calculated\n"
     ]
    }
   ],
   "source": [
    "neg_batches = np.linspace(0,600109,10).astype(int)\n",
    "i=0\n",
    "neg_tf = []\n",
    "while i < len(neg_batches)-1:\n",
    "    batch_result = np.sum(docMatrix[neg_batches[i]:neg_batches[i+1]].toarray(),axis=0)\n",
    "    neg_tf.append(batch_result)\n",
    "    print (neg_batches[i+1],\"entries' term freuquency calculated\")\n",
    "    i += 1"
   ]
  },
  {
   "cell_type": "code",
   "execution_count": 21,
   "metadata": {},
   "outputs": [
    {
     "name": "stdout",
     "output_type": "stream",
     "text": [
      "666763 entries' term freuquency calculated\n",
      "733417 entries' term freuquency calculated\n",
      "800072 entries' term freuquency calculated\n",
      "866726 entries' term freuquency calculated\n",
      "933381 entries' term freuquency calculated\n",
      "1000035 entries' term freuquency calculated\n",
      "1066690 entries' term freuquency calculated\n",
      "1133344 entries' term freuquency calculated\n",
      "1199999 entries' term freuquency calculated\n"
     ]
    }
   ],
   "source": [
    "pos_batches = np.linspace(600109,1199999,10).astype(int)\n",
    "i=0\n",
    "pos_tf = []\n",
    "while i < len(pos_batches)-1:\n",
    "    batch_result = np.sum(docMatrix[pos_batches[i]:pos_batches[i+1]].toarray(),axis=0)\n",
    "    pos_tf.append(batch_result)\n",
    "    print (pos_batches[i+1],\"entries' term freuquency calculated\")\n",
    "    i += 1"
   ]
  },
  {
   "cell_type": "code",
   "execution_count": 148,
   "metadata": {},
   "outputs": [
    {
     "data": {
      "text/html": [
       "<div>\n",
       "<style scoped>\n",
       "    .dataframe tbody tr th:only-of-type {\n",
       "        vertical-align: middle;\n",
       "    }\n",
       "\n",
       "    .dataframe tbody tr th {\n",
       "        vertical-align: top;\n",
       "    }\n",
       "\n",
       "    .dataframe thead th {\n",
       "        text-align: right;\n",
       "    }\n",
       "</style>\n",
       "<table border=\"1\" class=\"dataframe\">\n",
       "  <thead>\n",
       "    <tr style=\"text-align: right;\">\n",
       "      <th></th>\n",
       "      <th>negative</th>\n",
       "      <th>positive</th>\n",
       "      <th>total</th>\n",
       "    </tr>\n",
       "  </thead>\n",
       "  <tbody>\n",
       "    <tr>\n",
       "      <th>just</th>\n",
       "      <td>48080</td>\n",
       "      <td>47215</td>\n",
       "      <td>95295</td>\n",
       "    </tr>\n",
       "    <tr>\n",
       "      <th>good</th>\n",
       "      <td>21797</td>\n",
       "      <td>46602</td>\n",
       "      <td>68399</td>\n",
       "    </tr>\n",
       "    <tr>\n",
       "      <th>day</th>\n",
       "      <td>29793</td>\n",
       "      <td>35353</td>\n",
       "      <td>65146</td>\n",
       "    </tr>\n",
       "    <tr>\n",
       "      <th>like</th>\n",
       "      <td>30782</td>\n",
       "      <td>28215</td>\n",
       "      <td>58997</td>\n",
       "    </tr>\n",
       "    <tr>\n",
       "      <th>quot</th>\n",
       "      <td>19639</td>\n",
       "      <td>34411</td>\n",
       "      <td>54050</td>\n",
       "    </tr>\n",
       "    <tr>\n",
       "      <th>http</th>\n",
       "      <td>18294</td>\n",
       "      <td>35447</td>\n",
       "      <td>53741</td>\n",
       "    </tr>\n",
       "    <tr>\n",
       "      <th>today</th>\n",
       "      <td>28531</td>\n",
       "      <td>22644</td>\n",
       "      <td>51175</td>\n",
       "    </tr>\n",
       "    <tr>\n",
       "      <th>work</th>\n",
       "      <td>34073</td>\n",
       "      <td>14624</td>\n",
       "      <td>48697</td>\n",
       "    </tr>\n",
       "    <tr>\n",
       "      <th>going</th>\n",
       "      <td>25247</td>\n",
       "      <td>23232</td>\n",
       "      <td>48479</td>\n",
       "    </tr>\n",
       "    <tr>\n",
       "      <th>love</th>\n",
       "      <td>12586</td>\n",
       "      <td>35764</td>\n",
       "      <td>48350</td>\n",
       "    </tr>\n",
       "  </tbody>\n",
       "</table>\n",
       "</div>"
      ],
      "text/plain": [
       "       negative  positive  total\n",
       "just      48080     47215  95295\n",
       "good      21797     46602  68399\n",
       "day       29793     35353  65146\n",
       "like      30782     28215  58997\n",
       "quot      19639     34411  54050\n",
       "http      18294     35447  53741\n",
       "today     28531     22644  51175\n",
       "work      34073     14624  48697\n",
       "going     25247     23232  48479\n",
       "love      12586     35764  48350"
      ]
     },
     "execution_count": 148,
     "metadata": {},
     "output_type": "execute_result"
    }
   ],
   "source": [
    "neg = np.sum(neg_tf,axis=0)\n",
    "pos = np.sum(pos_tf,axis=0)\n",
    "term_freq_df2= pd.DataFrame([neg,pos], columns=cvz.get_feature_names()).transpose()\n",
    "term_freq_df2.columns = ['negative', 'positive']\n",
    "term_freq_df2['total'] = term_freq_df2['negative'] + term_freq_df2['positive']\n",
    "term_freq_df2.sort_values(by='total', ascending=False).iloc[:10]"
   ]
  },
  {
   "cell_type": "code",
   "execution_count": 164,
   "metadata": {},
   "outputs": [
    {
     "data": {
      "text/html": [
       "<div>\n",
       "<style scoped>\n",
       "    .dataframe tbody tr th:only-of-type {\n",
       "        vertical-align: middle;\n",
       "    }\n",
       "\n",
       "    .dataframe tbody tr th {\n",
       "        vertical-align: top;\n",
       "    }\n",
       "\n",
       "    .dataframe thead th {\n",
       "        text-align: right;\n",
       "    }\n",
       "</style>\n",
       "<table border=\"1\" class=\"dataframe\">\n",
       "  <thead>\n",
       "    <tr style=\"text-align: right;\">\n",
       "      <th></th>\n",
       "      <th>negative</th>\n",
       "      <th>positive</th>\n",
       "      <th>total</th>\n",
       "      <th>pos_rate</th>\n",
       "      <th>pos_freq</th>\n",
       "    </tr>\n",
       "  </thead>\n",
       "  <tbody>\n",
       "    <tr>\n",
       "      <th>just</th>\n",
       "      <td>48080</td>\n",
       "      <td>47215</td>\n",
       "      <td>95295</td>\n",
       "      <td>0.495461</td>\n",
       "      <td>0.013372</td>\n",
       "    </tr>\n",
       "    <tr>\n",
       "      <th>good</th>\n",
       "      <td>21797</td>\n",
       "      <td>46602</td>\n",
       "      <td>68399</td>\n",
       "      <td>0.681326</td>\n",
       "      <td>0.013199</td>\n",
       "    </tr>\n",
       "    <tr>\n",
       "      <th>day</th>\n",
       "      <td>29793</td>\n",
       "      <td>35353</td>\n",
       "      <td>65146</td>\n",
       "      <td>0.542673</td>\n",
       "      <td>0.010013</td>\n",
       "    </tr>\n",
       "    <tr>\n",
       "      <th>like</th>\n",
       "      <td>30782</td>\n",
       "      <td>28215</td>\n",
       "      <td>58997</td>\n",
       "      <td>0.478245</td>\n",
       "      <td>0.007991</td>\n",
       "    </tr>\n",
       "    <tr>\n",
       "      <th>quot</th>\n",
       "      <td>19639</td>\n",
       "      <td>34411</td>\n",
       "      <td>54050</td>\n",
       "      <td>0.636651</td>\n",
       "      <td>0.009746</td>\n",
       "    </tr>\n",
       "    <tr>\n",
       "      <th>http</th>\n",
       "      <td>18294</td>\n",
       "      <td>35447</td>\n",
       "      <td>53741</td>\n",
       "      <td>0.659590</td>\n",
       "      <td>0.010039</td>\n",
       "    </tr>\n",
       "    <tr>\n",
       "      <th>today</th>\n",
       "      <td>28531</td>\n",
       "      <td>22644</td>\n",
       "      <td>51175</td>\n",
       "      <td>0.442482</td>\n",
       "      <td>0.006413</td>\n",
       "    </tr>\n",
       "    <tr>\n",
       "      <th>work</th>\n",
       "      <td>34073</td>\n",
       "      <td>14624</td>\n",
       "      <td>48697</td>\n",
       "      <td>0.300306</td>\n",
       "      <td>0.004142</td>\n",
       "    </tr>\n",
       "    <tr>\n",
       "      <th>going</th>\n",
       "      <td>25247</td>\n",
       "      <td>23232</td>\n",
       "      <td>48479</td>\n",
       "      <td>0.479218</td>\n",
       "      <td>0.006580</td>\n",
       "    </tr>\n",
       "    <tr>\n",
       "      <th>love</th>\n",
       "      <td>12586</td>\n",
       "      <td>35764</td>\n",
       "      <td>48350</td>\n",
       "      <td>0.739690</td>\n",
       "      <td>0.010129</td>\n",
       "    </tr>\n",
       "  </tbody>\n",
       "</table>\n",
       "</div>"
      ],
      "text/plain": [
       "       negative  positive  total  pos_rate  pos_freq\n",
       "just      48080     47215  95295  0.495461  0.013372\n",
       "good      21797     46602  68399  0.681326  0.013199\n",
       "day       29793     35353  65146  0.542673  0.010013\n",
       "like      30782     28215  58997  0.478245  0.007991\n",
       "quot      19639     34411  54050  0.636651  0.009746\n",
       "http      18294     35447  53741  0.659590  0.010039\n",
       "today     28531     22644  51175  0.442482  0.006413\n",
       "work      34073     14624  48697  0.300306  0.004142\n",
       "going     25247     23232  48479  0.479218  0.006580\n",
       "love      12586     35764  48350  0.739690  0.010129"
      ]
     },
     "execution_count": 164,
     "metadata": {},
     "output_type": "execute_result"
    }
   ],
   "source": [
    "term_freq_df2['pos_rate'] = term_freq_df2['positive']/( term_freq_df2['positive']+ term_freq_df2['negative'])\n",
    "term_freq_df2['pos_freq'] = term_freq_df2['positive']/( term_freq_df2['positive'].sum())\n",
    "term_freq_df2.sort_values(by='total', ascending=False).iloc[:10]"
   ]
  },
  {
   "cell_type": "code",
   "execution_count": 165,
   "metadata": {},
   "outputs": [
    {
     "data": {
      "text/html": [
       "<div>\n",
       "<style scoped>\n",
       "    .dataframe tbody tr th:only-of-type {\n",
       "        vertical-align: middle;\n",
       "    }\n",
       "\n",
       "    .dataframe tbody tr th {\n",
       "        vertical-align: top;\n",
       "    }\n",
       "\n",
       "    .dataframe thead th {\n",
       "        text-align: right;\n",
       "    }\n",
       "</style>\n",
       "<table border=\"1\" class=\"dataframe\">\n",
       "  <thead>\n",
       "    <tr style=\"text-align: right;\">\n",
       "      <th></th>\n",
       "      <th>negative</th>\n",
       "      <th>positive</th>\n",
       "      <th>total</th>\n",
       "      <th>pos_rate</th>\n",
       "      <th>pos_freq</th>\n",
       "      <th>pos_rate_cdf</th>\n",
       "      <th>pos_freq_cdf</th>\n",
       "      <th>pos_cdf_hmean</th>\n",
       "    </tr>\n",
       "  </thead>\n",
       "  <tbody>\n",
       "    <tr>\n",
       "      <th>welcome</th>\n",
       "      <td>464</td>\n",
       "      <td>5026</td>\n",
       "      <td>5490</td>\n",
       "      <td>0.915483</td>\n",
       "      <td>0.001423</td>\n",
       "      <td>0.994879</td>\n",
       "      <td>0.998408</td>\n",
       "      <td>0.996641</td>\n",
       "    </tr>\n",
       "    <tr>\n",
       "      <th>thank</th>\n",
       "      <td>1724</td>\n",
       "      <td>11840</td>\n",
       "      <td>13564</td>\n",
       "      <td>0.872899</td>\n",
       "      <td>0.003353</td>\n",
       "      <td>0.989342</td>\n",
       "      <td>1.000000</td>\n",
       "      <td>0.994642</td>\n",
       "    </tr>\n",
       "    <tr>\n",
       "      <th>thanks</th>\n",
       "      <td>4331</td>\n",
       "      <td>25920</td>\n",
       "      <td>30251</td>\n",
       "      <td>0.856831</td>\n",
       "      <td>0.007341</td>\n",
       "      <td>0.986176</td>\n",
       "      <td>1.000000</td>\n",
       "      <td>0.993040</td>\n",
       "    </tr>\n",
       "    <tr>\n",
       "      <th>www</th>\n",
       "      <td>1097</td>\n",
       "      <td>5733</td>\n",
       "      <td>6830</td>\n",
       "      <td>0.839385</td>\n",
       "      <td>0.001624</td>\n",
       "      <td>0.981852</td>\n",
       "      <td>0.999658</td>\n",
       "      <td>0.990675</td>\n",
       "    </tr>\n",
       "    <tr>\n",
       "      <th>awesome</th>\n",
       "      <td>2827</td>\n",
       "      <td>10766</td>\n",
       "      <td>13593</td>\n",
       "      <td>0.792025</td>\n",
       "      <td>0.003049</td>\n",
       "      <td>0.963959</td>\n",
       "      <td>1.000000</td>\n",
       "      <td>0.981649</td>\n",
       "    </tr>\n",
       "    <tr>\n",
       "      <th>follow</th>\n",
       "      <td>1917</td>\n",
       "      <td>6900</td>\n",
       "      <td>8817</td>\n",
       "      <td>0.782579</td>\n",
       "      <td>0.001954</td>\n",
       "      <td>0.959050</td>\n",
       "      <td>0.999982</td>\n",
       "      <td>0.979088</td>\n",
       "    </tr>\n",
       "    <tr>\n",
       "      <th>glad</th>\n",
       "      <td>1714</td>\n",
       "      <td>6116</td>\n",
       "      <td>7830</td>\n",
       "      <td>0.781098</td>\n",
       "      <td>0.001732</td>\n",
       "      <td>0.958233</td>\n",
       "      <td>0.999862</td>\n",
       "      <td>0.978605</td>\n",
       "    </tr>\n",
       "    <tr>\n",
       "      <th>enjoy</th>\n",
       "      <td>1212</td>\n",
       "      <td>4455</td>\n",
       "      <td>5667</td>\n",
       "      <td>0.786130</td>\n",
       "      <td>0.001262</td>\n",
       "      <td>0.960955</td>\n",
       "      <td>0.995188</td>\n",
       "      <td>0.977772</td>\n",
       "    </tr>\n",
       "    <tr>\n",
       "      <th>yay</th>\n",
       "      <td>2368</td>\n",
       "      <td>7928</td>\n",
       "      <td>10296</td>\n",
       "      <td>0.770008</td>\n",
       "      <td>0.002245</td>\n",
       "      <td>0.951689</td>\n",
       "      <td>0.999999</td>\n",
       "      <td>0.975246</td>\n",
       "    </tr>\n",
       "    <tr>\n",
       "      <th>amazing</th>\n",
       "      <td>2069</td>\n",
       "      <td>6792</td>\n",
       "      <td>8861</td>\n",
       "      <td>0.766505</td>\n",
       "      <td>0.001924</td>\n",
       "      <td>0.949460</td>\n",
       "      <td>0.999976</td>\n",
       "      <td>0.974064</td>\n",
       "    </tr>\n",
       "  </tbody>\n",
       "</table>\n",
       "</div>"
      ],
      "text/plain": [
       "         negative  positive  total  pos_rate  pos_freq  pos_rate_cdf  \\\n",
       "welcome       464      5026   5490  0.915483  0.001423      0.994879   \n",
       "thank        1724     11840  13564  0.872899  0.003353      0.989342   \n",
       "thanks       4331     25920  30251  0.856831  0.007341      0.986176   \n",
       "www          1097      5733   6830  0.839385  0.001624      0.981852   \n",
       "awesome      2827     10766  13593  0.792025  0.003049      0.963959   \n",
       "follow       1917      6900   8817  0.782579  0.001954      0.959050   \n",
       "glad         1714      6116   7830  0.781098  0.001732      0.958233   \n",
       "enjoy        1212      4455   5667  0.786130  0.001262      0.960955   \n",
       "yay          2368      7928  10296  0.770008  0.002245      0.951689   \n",
       "amazing      2069      6792   8861  0.766505  0.001924      0.949460   \n",
       "\n",
       "         pos_freq_cdf  pos_cdf_hmean  \n",
       "welcome      0.998408       0.996641  \n",
       "thank        1.000000       0.994642  \n",
       "thanks       1.000000       0.993040  \n",
       "www          0.999658       0.990675  \n",
       "awesome      1.000000       0.981649  \n",
       "follow       0.999982       0.979088  \n",
       "glad         0.999862       0.978605  \n",
       "enjoy        0.995188       0.977772  \n",
       "yay          0.999999       0.975246  \n",
       "amazing      0.999976       0.974064  "
      ]
     },
     "execution_count": 165,
     "metadata": {},
     "output_type": "execute_result"
    }
   ],
   "source": [
    "from scipy.stats import norm, hmean\n",
    "def normcdf(x):\n",
    "    return norm.cdf(x, x.mean(), x.std())\n",
    "term_freq_df2['pos_rate_cdf'] = normcdf(term_freq_df2['pos_rate'])\n",
    "term_freq_df2['pos_freq_cdf'] = normcdf(term_freq_df2['pos_freq'])\n",
    "term_freq_df2['pos_cdf_hmean'] = hmean([term_freq_df2['pos_rate_cdf'], term_freq_df2['pos_freq_cdf']])\n",
    "term_freq_df2.sort_values(by='pos_cdf_hmean',ascending=False).iloc[:10]"
   ]
  },
  {
   "cell_type": "code",
   "execution_count": 166,
   "metadata": {},
   "outputs": [
    {
     "data": {
      "text/html": [
       "<div>\n",
       "<style scoped>\n",
       "    .dataframe tbody tr th:only-of-type {\n",
       "        vertical-align: middle;\n",
       "    }\n",
       "\n",
       "    .dataframe tbody tr th {\n",
       "        vertical-align: top;\n",
       "    }\n",
       "\n",
       "    .dataframe thead th {\n",
       "        text-align: right;\n",
       "    }\n",
       "</style>\n",
       "<table border=\"1\" class=\"dataframe\">\n",
       "  <thead>\n",
       "    <tr style=\"text-align: right;\">\n",
       "      <th></th>\n",
       "      <th>negative</th>\n",
       "      <th>positive</th>\n",
       "      <th>total</th>\n",
       "      <th>pos_rate</th>\n",
       "      <th>pos_freq</th>\n",
       "      <th>pos_rate_cdf</th>\n",
       "      <th>pos_freq_cdf</th>\n",
       "      <th>pos_cdf_hmean</th>\n",
       "      <th>neg_rate</th>\n",
       "      <th>neg_freq</th>\n",
       "    </tr>\n",
       "  </thead>\n",
       "  <tbody>\n",
       "    <tr>\n",
       "      <th>just</th>\n",
       "      <td>48080</td>\n",
       "      <td>47215</td>\n",
       "      <td>95295</td>\n",
       "      <td>0.495461</td>\n",
       "      <td>0.013372</td>\n",
       "      <td>0.480623</td>\n",
       "      <td>1.0</td>\n",
       "      <td>0.649218</td>\n",
       "      <td>0.504539</td>\n",
       "      <td>0.013274</td>\n",
       "    </tr>\n",
       "    <tr>\n",
       "      <th>good</th>\n",
       "      <td>21797</td>\n",
       "      <td>46602</td>\n",
       "      <td>68399</td>\n",
       "      <td>0.681326</td>\n",
       "      <td>0.013199</td>\n",
       "      <td>0.866305</td>\n",
       "      <td>1.0</td>\n",
       "      <td>0.928364</td>\n",
       "      <td>0.318674</td>\n",
       "      <td>0.006018</td>\n",
       "    </tr>\n",
       "    <tr>\n",
       "      <th>day</th>\n",
       "      <td>29793</td>\n",
       "      <td>35353</td>\n",
       "      <td>65146</td>\n",
       "      <td>0.542673</td>\n",
       "      <td>0.010013</td>\n",
       "      <td>0.596956</td>\n",
       "      <td>1.0</td>\n",
       "      <td>0.747618</td>\n",
       "      <td>0.457327</td>\n",
       "      <td>0.008225</td>\n",
       "    </tr>\n",
       "    <tr>\n",
       "      <th>like</th>\n",
       "      <td>30782</td>\n",
       "      <td>28215</td>\n",
       "      <td>58997</td>\n",
       "      <td>0.478245</td>\n",
       "      <td>0.007991</td>\n",
       "      <td>0.438085</td>\n",
       "      <td>1.0</td>\n",
       "      <td>0.609262</td>\n",
       "      <td>0.521755</td>\n",
       "      <td>0.008498</td>\n",
       "    </tr>\n",
       "    <tr>\n",
       "      <th>quot</th>\n",
       "      <td>19639</td>\n",
       "      <td>34411</td>\n",
       "      <td>54050</td>\n",
       "      <td>0.636651</td>\n",
       "      <td>0.009746</td>\n",
       "      <td>0.796965</td>\n",
       "      <td>1.0</td>\n",
       "      <td>0.887012</td>\n",
       "      <td>0.363349</td>\n",
       "      <td>0.005422</td>\n",
       "    </tr>\n",
       "    <tr>\n",
       "      <th>http</th>\n",
       "      <td>18294</td>\n",
       "      <td>35447</td>\n",
       "      <td>53741</td>\n",
       "      <td>0.659590</td>\n",
       "      <td>0.010039</td>\n",
       "      <td>0.834898</td>\n",
       "      <td>1.0</td>\n",
       "      <td>0.910021</td>\n",
       "      <td>0.340410</td>\n",
       "      <td>0.005051</td>\n",
       "    </tr>\n",
       "    <tr>\n",
       "      <th>today</th>\n",
       "      <td>28531</td>\n",
       "      <td>22644</td>\n",
       "      <td>51175</td>\n",
       "      <td>0.442482</td>\n",
       "      <td>0.006413</td>\n",
       "      <td>0.352499</td>\n",
       "      <td>1.0</td>\n",
       "      <td>0.521256</td>\n",
       "      <td>0.557518</td>\n",
       "      <td>0.007877</td>\n",
       "    </tr>\n",
       "    <tr>\n",
       "      <th>work</th>\n",
       "      <td>34073</td>\n",
       "      <td>14624</td>\n",
       "      <td>48697</td>\n",
       "      <td>0.300306</td>\n",
       "      <td>0.004142</td>\n",
       "      <td>0.103090</td>\n",
       "      <td>1.0</td>\n",
       "      <td>0.186911</td>\n",
       "      <td>0.699694</td>\n",
       "      <td>0.009407</td>\n",
       "    </tr>\n",
       "    <tr>\n",
       "      <th>going</th>\n",
       "      <td>25247</td>\n",
       "      <td>23232</td>\n",
       "      <td>48479</td>\n",
       "      <td>0.479218</td>\n",
       "      <td>0.006580</td>\n",
       "      <td>0.440475</td>\n",
       "      <td>1.0</td>\n",
       "      <td>0.611569</td>\n",
       "      <td>0.520782</td>\n",
       "      <td>0.006970</td>\n",
       "    </tr>\n",
       "    <tr>\n",
       "      <th>love</th>\n",
       "      <td>12586</td>\n",
       "      <td>35764</td>\n",
       "      <td>48350</td>\n",
       "      <td>0.739690</td>\n",
       "      <td>0.010129</td>\n",
       "      <td>0.929573</td>\n",
       "      <td>1.0</td>\n",
       "      <td>0.963501</td>\n",
       "      <td>0.260310</td>\n",
       "      <td>0.003475</td>\n",
       "    </tr>\n",
       "  </tbody>\n",
       "</table>\n",
       "</div>"
      ],
      "text/plain": [
       "       negative  positive  total  pos_rate  pos_freq  pos_rate_cdf  \\\n",
       "just      48080     47215  95295  0.495461  0.013372      0.480623   \n",
       "good      21797     46602  68399  0.681326  0.013199      0.866305   \n",
       "day       29793     35353  65146  0.542673  0.010013      0.596956   \n",
       "like      30782     28215  58997  0.478245  0.007991      0.438085   \n",
       "quot      19639     34411  54050  0.636651  0.009746      0.796965   \n",
       "http      18294     35447  53741  0.659590  0.010039      0.834898   \n",
       "today     28531     22644  51175  0.442482  0.006413      0.352499   \n",
       "work      34073     14624  48697  0.300306  0.004142      0.103090   \n",
       "going     25247     23232  48479  0.479218  0.006580      0.440475   \n",
       "love      12586     35764  48350  0.739690  0.010129      0.929573   \n",
       "\n",
       "       pos_freq_cdf  pos_cdf_hmean  neg_rate  neg_freq  \n",
       "just            1.0       0.649218  0.504539  0.013274  \n",
       "good            1.0       0.928364  0.318674  0.006018  \n",
       "day             1.0       0.747618  0.457327  0.008225  \n",
       "like            1.0       0.609262  0.521755  0.008498  \n",
       "quot            1.0       0.887012  0.363349  0.005422  \n",
       "http            1.0       0.910021  0.340410  0.005051  \n",
       "today           1.0       0.521256  0.557518  0.007877  \n",
       "work            1.0       0.186911  0.699694  0.009407  \n",
       "going           1.0       0.611569  0.520782  0.006970  \n",
       "love            1.0       0.963501  0.260310  0.003475  "
      ]
     },
     "execution_count": 166,
     "metadata": {},
     "output_type": "execute_result"
    }
   ],
   "source": [
    "term_freq_df2['neg_rate'] = term_freq_df2['negative']/( term_freq_df2['positive']+ term_freq_df2['negative'])\n",
    "term_freq_df2['neg_freq'] = term_freq_df2['negative']/( term_freq_df2['negative'].sum())\n",
    "term_freq_df2.sort_values(by='total', ascending=False).iloc[:10]"
   ]
  },
  {
   "cell_type": "code",
   "execution_count": 167,
   "metadata": {},
   "outputs": [
    {
     "data": {
      "text/html": [
       "<div>\n",
       "<style scoped>\n",
       "    .dataframe tbody tr th:only-of-type {\n",
       "        vertical-align: middle;\n",
       "    }\n",
       "\n",
       "    .dataframe tbody tr th {\n",
       "        vertical-align: top;\n",
       "    }\n",
       "\n",
       "    .dataframe thead th {\n",
       "        text-align: right;\n",
       "    }\n",
       "</style>\n",
       "<table border=\"1\" class=\"dataframe\">\n",
       "  <thead>\n",
       "    <tr style=\"text-align: right;\">\n",
       "      <th></th>\n",
       "      <th>negative</th>\n",
       "      <th>positive</th>\n",
       "      <th>total</th>\n",
       "      <th>pos_rate</th>\n",
       "      <th>pos_freq</th>\n",
       "      <th>pos_rate_cdf</th>\n",
       "      <th>pos_freq_cdf</th>\n",
       "      <th>pos_cdf_hmean</th>\n",
       "      <th>neg_rate</th>\n",
       "      <th>neg_freq</th>\n",
       "      <th>neg_rate_cdf</th>\n",
       "      <th>neg_freq_cdf</th>\n",
       "      <th>neg_cdf_hmean</th>\n",
       "    </tr>\n",
       "  </thead>\n",
       "  <tbody>\n",
       "    <tr>\n",
       "      <th>sad</th>\n",
       "      <td>20879</td>\n",
       "      <td>1095</td>\n",
       "      <td>21974</td>\n",
       "      <td>0.049832</td>\n",
       "      <td>0.000310</td>\n",
       "      <td>0.002370</td>\n",
       "      <td>0.680208</td>\n",
       "      <td>0.004723</td>\n",
       "      <td>0.950168</td>\n",
       "      <td>0.005764</td>\n",
       "      <td>0.997630</td>\n",
       "      <td>1.000000</td>\n",
       "      <td>0.998814</td>\n",
       "    </tr>\n",
       "    <tr>\n",
       "      <th>hurts</th>\n",
       "      <td>5419</td>\n",
       "      <td>359</td>\n",
       "      <td>5778</td>\n",
       "      <td>0.062132</td>\n",
       "      <td>0.000102</td>\n",
       "      <td>0.003001</td>\n",
       "      <td>0.501491</td>\n",
       "      <td>0.005967</td>\n",
       "      <td>0.937868</td>\n",
       "      <td>0.001496</td>\n",
       "      <td>0.996999</td>\n",
       "      <td>0.999595</td>\n",
       "      <td>0.998295</td>\n",
       "    </tr>\n",
       "    <tr>\n",
       "      <th>sick</th>\n",
       "      <td>10891</td>\n",
       "      <td>1058</td>\n",
       "      <td>11949</td>\n",
       "      <td>0.088543</td>\n",
       "      <td>0.000300</td>\n",
       "      <td>0.004895</td>\n",
       "      <td>0.671814</td>\n",
       "      <td>0.009720</td>\n",
       "      <td>0.911457</td>\n",
       "      <td>0.003007</td>\n",
       "      <td>0.995105</td>\n",
       "      <td>1.000000</td>\n",
       "      <td>0.997546</td>\n",
       "    </tr>\n",
       "    <tr>\n",
       "      <th>sucks</th>\n",
       "      <td>7411</td>\n",
       "      <td>736</td>\n",
       "      <td>8147</td>\n",
       "      <td>0.090340</td>\n",
       "      <td>0.000208</td>\n",
       "      <td>0.005056</td>\n",
       "      <td>0.595490</td>\n",
       "      <td>0.010028</td>\n",
       "      <td>0.909660</td>\n",
       "      <td>0.002046</td>\n",
       "      <td>0.994944</td>\n",
       "      <td>0.999998</td>\n",
       "      <td>0.997465</td>\n",
       "    </tr>\n",
       "    <tr>\n",
       "      <th>poor</th>\n",
       "      <td>5605</td>\n",
       "      <td>562</td>\n",
       "      <td>6167</td>\n",
       "      <td>0.091130</td>\n",
       "      <td>0.000159</td>\n",
       "      <td>0.005129</td>\n",
       "      <td>0.552454</td>\n",
       "      <td>0.010163</td>\n",
       "      <td>0.908870</td>\n",
       "      <td>0.001547</td>\n",
       "      <td>0.994871</td>\n",
       "      <td>0.999742</td>\n",
       "      <td>0.997301</td>\n",
       "    </tr>\n",
       "    <tr>\n",
       "      <th>ugh</th>\n",
       "      <td>6801</td>\n",
       "      <td>753</td>\n",
       "      <td>7554</td>\n",
       "      <td>0.099682</td>\n",
       "      <td>0.000213</td>\n",
       "      <td>0.005973</td>\n",
       "      <td>0.599642</td>\n",
       "      <td>0.011828</td>\n",
       "      <td>0.900318</td>\n",
       "      <td>0.001878</td>\n",
       "      <td>0.994027</td>\n",
       "      <td>0.999990</td>\n",
       "      <td>0.997000</td>\n",
       "    </tr>\n",
       "    <tr>\n",
       "      <th>missing</th>\n",
       "      <td>5488</td>\n",
       "      <td>746</td>\n",
       "      <td>6234</td>\n",
       "      <td>0.119666</td>\n",
       "      <td>0.000211</td>\n",
       "      <td>0.008441</td>\n",
       "      <td>0.597933</td>\n",
       "      <td>0.016646</td>\n",
       "      <td>0.880334</td>\n",
       "      <td>0.001515</td>\n",
       "      <td>0.991559</td>\n",
       "      <td>0.999657</td>\n",
       "      <td>0.995591</td>\n",
       "    </tr>\n",
       "    <tr>\n",
       "      <th>hate</th>\n",
       "      <td>12908</td>\n",
       "      <td>1987</td>\n",
       "      <td>14895</td>\n",
       "      <td>0.133400</td>\n",
       "      <td>0.000563</td>\n",
       "      <td>0.010619</td>\n",
       "      <td>0.848797</td>\n",
       "      <td>0.020975</td>\n",
       "      <td>0.866600</td>\n",
       "      <td>0.003564</td>\n",
       "      <td>0.989381</td>\n",
       "      <td>1.000000</td>\n",
       "      <td>0.994662</td>\n",
       "    </tr>\n",
       "    <tr>\n",
       "      <th>headache</th>\n",
       "      <td>4020</td>\n",
       "      <td>314</td>\n",
       "      <td>4334</td>\n",
       "      <td>0.072450</td>\n",
       "      <td>0.000089</td>\n",
       "      <td>0.003644</td>\n",
       "      <td>0.490161</td>\n",
       "      <td>0.007235</td>\n",
       "      <td>0.927550</td>\n",
       "      <td>0.001110</td>\n",
       "      <td>0.996356</td>\n",
       "      <td>0.992294</td>\n",
       "      <td>0.994321</td>\n",
       "    </tr>\n",
       "    <tr>\n",
       "      <th>miss</th>\n",
       "      <td>22977</td>\n",
       "      <td>4255</td>\n",
       "      <td>27232</td>\n",
       "      <td>0.156250</td>\n",
       "      <td>0.001205</td>\n",
       "      <td>0.015332</td>\n",
       "      <td>0.993107</td>\n",
       "      <td>0.030197</td>\n",
       "      <td>0.843750</td>\n",
       "      <td>0.006344</td>\n",
       "      <td>0.984668</td>\n",
       "      <td>1.000000</td>\n",
       "      <td>0.992275</td>\n",
       "    </tr>\n",
       "  </tbody>\n",
       "</table>\n",
       "</div>"
      ],
      "text/plain": [
       "          negative  positive  total  pos_rate  pos_freq  pos_rate_cdf  \\\n",
       "sad          20879      1095  21974  0.049832  0.000310      0.002370   \n",
       "hurts         5419       359   5778  0.062132  0.000102      0.003001   \n",
       "sick         10891      1058  11949  0.088543  0.000300      0.004895   \n",
       "sucks         7411       736   8147  0.090340  0.000208      0.005056   \n",
       "poor          5605       562   6167  0.091130  0.000159      0.005129   \n",
       "ugh           6801       753   7554  0.099682  0.000213      0.005973   \n",
       "missing       5488       746   6234  0.119666  0.000211      0.008441   \n",
       "hate         12908      1987  14895  0.133400  0.000563      0.010619   \n",
       "headache      4020       314   4334  0.072450  0.000089      0.003644   \n",
       "miss         22977      4255  27232  0.156250  0.001205      0.015332   \n",
       "\n",
       "          pos_freq_cdf  pos_cdf_hmean  neg_rate  neg_freq  neg_rate_cdf  \\\n",
       "sad           0.680208       0.004723  0.950168  0.005764      0.997630   \n",
       "hurts         0.501491       0.005967  0.937868  0.001496      0.996999   \n",
       "sick          0.671814       0.009720  0.911457  0.003007      0.995105   \n",
       "sucks         0.595490       0.010028  0.909660  0.002046      0.994944   \n",
       "poor          0.552454       0.010163  0.908870  0.001547      0.994871   \n",
       "ugh           0.599642       0.011828  0.900318  0.001878      0.994027   \n",
       "missing       0.597933       0.016646  0.880334  0.001515      0.991559   \n",
       "hate          0.848797       0.020975  0.866600  0.003564      0.989381   \n",
       "headache      0.490161       0.007235  0.927550  0.001110      0.996356   \n",
       "miss          0.993107       0.030197  0.843750  0.006344      0.984668   \n",
       "\n",
       "          neg_freq_cdf  neg_cdf_hmean  \n",
       "sad           1.000000       0.998814  \n",
       "hurts         0.999595       0.998295  \n",
       "sick          1.000000       0.997546  \n",
       "sucks         0.999998       0.997465  \n",
       "poor          0.999742       0.997301  \n",
       "ugh           0.999990       0.997000  \n",
       "missing       0.999657       0.995591  \n",
       "hate          1.000000       0.994662  \n",
       "headache      0.992294       0.994321  \n",
       "miss          1.000000       0.992275  "
      ]
     },
     "execution_count": 167,
     "metadata": {},
     "output_type": "execute_result"
    }
   ],
   "source": [
    "term_freq_df2['neg_rate_cdf'] = normcdf(term_freq_df2['neg_rate'])\n",
    "term_freq_df2['neg_freq_cdf'] = normcdf(term_freq_df2['neg_freq'])\n",
    "term_freq_df2['neg_cdf_hmean'] = hmean([term_freq_df2['neg_rate_cdf'], term_freq_df2['neg_freq_cdf']])\n",
    "term_freq_df2.sort_values(by='neg_cdf_hmean',ascending=False).iloc[:10]"
   ]
  },
  {
   "cell_type": "code",
   "execution_count": 229,
   "metadata": {},
   "outputs": [],
   "source": [
    "X_Tran = cvz.transform(X_test.text)"
   ]
  },
  {
   "cell_type": "code",
   "execution_count": 230,
   "metadata": {},
   "outputs": [
    {
     "data": {
      "text/plain": [
       "<400000x10000 sparse matrix of type '<class 'numpy.int64'>'\n",
       "\twith 2313917 stored elements in Compressed Sparse Row format>"
      ]
     },
     "execution_count": 230,
     "metadata": {},
     "output_type": "execute_result"
    }
   ],
   "source": [
    "X_Tran"
   ]
  },
  {
   "cell_type": "code",
   "execution_count": 103,
   "metadata": {},
   "outputs": [
    {
     "data": {
      "text/plain": [
       "'shop'"
      ]
     },
     "execution_count": 103,
     "metadata": {},
     "output_type": "execute_result"
    }
   ],
   "source": [
    "cvz.get_feature_names()[7787]"
   ]
  },
  {
   "cell_type": "code",
   "execution_count": null,
   "metadata": {},
   "outputs": [],
   "source": []
  },
  {
   "cell_type": "code",
   "execution_count": 209,
   "metadata": {},
   "outputs": [],
   "source": [
    "data= term_freq_df2.filter(items=[cvz.get_feature_names_out()[index] for  i, index in enumerate(X.nonzero()[1])], axis=0)\n"
   ]
  },
  {
   "cell_type": "code",
   "execution_count": 210,
   "metadata": {},
   "outputs": [
    {
     "data": {
      "text/plain": [
       "pandas.core.frame.DataFrame"
      ]
     },
     "execution_count": 210,
     "metadata": {},
     "output_type": "execute_result"
    }
   ],
   "source": [
    "type(data)"
   ]
  },
  {
   "cell_type": "code",
   "execution_count": 378,
   "metadata": {},
   "outputs": [],
   "source": [
    "def evaluation(data):\n",
    "    if np.sum(data['pos_cdf_hmean']) > np.sum(data['neg_cdf_hmean']):\n",
    "        return 4\n",
    "    # elif np.sum(data['pos_cdf_hmean']) > np.sum(data['neg_cdf_hmean']):\n",
    "    #     return 0\n",
    "    else: \n",
    "        return 0"
   ]
  },
  {
   "cell_type": "code",
   "execution_count": 366,
   "metadata": {},
   "outputs": [
    {
     "data": {
      "text/plain": [
       "4"
      ]
     },
     "execution_count": 366,
     "metadata": {},
     "output_type": "execute_result"
    }
   ],
   "source": [
    "y_test.iloc[392000]"
   ]
  },
  {
   "cell_type": "code",
   "execution_count": 368,
   "metadata": {},
   "outputs": [
    {
     "name": "stdout",
     "output_type": "stream",
     "text": [
      "4\n"
     ]
    }
   ],
   "source": [
    "print(evaluation(term_freq_df2.filter(items=[cvz.get_feature_names_out()[index] for  i, index in enumerate(X_Tran[312500].nonzero()[1])], axis=0)))\n",
    " "
   ]
  },
  {
   "cell_type": "code",
   "execution_count": 360,
   "metadata": {},
   "outputs": [
    {
     "data": {
      "text/plain": [
       "2.5435742918114657"
      ]
     },
     "execution_count": 360,
     "metadata": {},
     "output_type": "execute_result"
    }
   ],
   "source": [
    "np.sum(data['neg_cdf_hmean'])"
   ]
  },
  {
   "cell_type": "code",
   "execution_count": 322,
   "metadata": {},
   "outputs": [
    {
     "data": {
      "text/plain": [
       "'@chipcoffey I hope you get invited back to Paranormal State..I think you are a great part to the show '"
      ]
     },
     "execution_count": 322,
     "metadata": {},
     "output_type": "execute_result"
    }
   ],
   "source": [
    "X_test.text.iloc[392000]"
   ]
  },
  {
   "cell_type": "code",
   "execution_count": 328,
   "metadata": {},
   "outputs": [
    {
     "data": {
      "text/html": [
       "<div>\n",
       "<style scoped>\n",
       "    .dataframe tbody tr th:only-of-type {\n",
       "        vertical-align: middle;\n",
       "    }\n",
       "\n",
       "    .dataframe tbody tr th {\n",
       "        vertical-align: top;\n",
       "    }\n",
       "\n",
       "    .dataframe thead th {\n",
       "        text-align: right;\n",
       "    }\n",
       "</style>\n",
       "<table border=\"1\" class=\"dataframe\">\n",
       "  <thead>\n",
       "    <tr style=\"text-align: right;\">\n",
       "      <th></th>\n",
       "      <th>negative</th>\n",
       "      <th>positive</th>\n",
       "      <th>total</th>\n",
       "      <th>pos_rate</th>\n",
       "      <th>pos_freq</th>\n",
       "      <th>pos_rate_cdf</th>\n",
       "      <th>pos_freq_cdf</th>\n",
       "      <th>pos_cdf_hmean</th>\n",
       "      <th>neg_rate</th>\n",
       "      <th>neg_freq</th>\n",
       "      <th>neg_rate_cdf</th>\n",
       "      <th>neg_freq_cdf</th>\n",
       "      <th>neg_cdf_hmean</th>\n",
       "    </tr>\n",
       "  </thead>\n",
       "  <tbody>\n",
       "    <tr>\n",
       "      <th>great</th>\n",
       "      <td>6168</td>\n",
       "      <td>18949</td>\n",
       "      <td>25117</td>\n",
       "      <td>0.754429</td>\n",
       "      <td>0.005367</td>\n",
       "      <td>0.941141</td>\n",
       "      <td>1.000000</td>\n",
       "      <td>0.969678</td>\n",
       "      <td>0.245571</td>\n",
       "      <td>0.001703</td>\n",
       "      <td>0.058859</td>\n",
       "      <td>0.999940</td>\n",
       "      <td>0.111173</td>\n",
       "    </tr>\n",
       "    <tr>\n",
       "      <th>hope</th>\n",
       "      <td>11031</td>\n",
       "      <td>14497</td>\n",
       "      <td>25528</td>\n",
       "      <td>0.567886</td>\n",
       "      <td>0.004106</td>\n",
       "      <td>0.656349</td>\n",
       "      <td>1.000000</td>\n",
       "      <td>0.792525</td>\n",
       "      <td>0.432114</td>\n",
       "      <td>0.003045</td>\n",
       "      <td>0.343651</td>\n",
       "      <td>1.000000</td>\n",
       "      <td>0.511519</td>\n",
       "    </tr>\n",
       "    <tr>\n",
       "      <th>invited</th>\n",
       "      <td>356</td>\n",
       "      <td>202</td>\n",
       "      <td>558</td>\n",
       "      <td>0.362007</td>\n",
       "      <td>0.000057</td>\n",
       "      <td>0.189476</td>\n",
       "      <td>0.462015</td>\n",
       "      <td>0.268740</td>\n",
       "      <td>0.637993</td>\n",
       "      <td>0.000098</td>\n",
       "      <td>0.810524</td>\n",
       "      <td>0.498360</td>\n",
       "      <td>0.617217</td>\n",
       "    </tr>\n",
       "    <tr>\n",
       "      <th>state</th>\n",
       "      <td>568</td>\n",
       "      <td>508</td>\n",
       "      <td>1076</td>\n",
       "      <td>0.472119</td>\n",
       "      <td>0.000144</td>\n",
       "      <td>0.423095</td>\n",
       "      <td>0.538947</td>\n",
       "      <td>0.474046</td>\n",
       "      <td>0.527881</td>\n",
       "      <td>0.000157</td>\n",
       "      <td>0.576905</td>\n",
       "      <td>0.554206</td>\n",
       "      <td>0.565328</td>\n",
       "    </tr>\n",
       "    <tr>\n",
       "      <th>think</th>\n",
       "      <td>16519</td>\n",
       "      <td>14573</td>\n",
       "      <td>31092</td>\n",
       "      <td>0.468706</td>\n",
       "      <td>0.004127</td>\n",
       "      <td>0.414790</td>\n",
       "      <td>1.000000</td>\n",
       "      <td>0.586362</td>\n",
       "      <td>0.531294</td>\n",
       "      <td>0.004561</td>\n",
       "      <td>0.585210</td>\n",
       "      <td>1.000000</td>\n",
       "      <td>0.738338</td>\n",
       "    </tr>\n",
       "  </tbody>\n",
       "</table>\n",
       "</div>"
      ],
      "text/plain": [
       "         negative  positive  total  pos_rate  pos_freq  pos_rate_cdf  \\\n",
       "great        6168     18949  25117  0.754429  0.005367      0.941141   \n",
       "hope        11031     14497  25528  0.567886  0.004106      0.656349   \n",
       "invited       356       202    558  0.362007  0.000057      0.189476   \n",
       "state         568       508   1076  0.472119  0.000144      0.423095   \n",
       "think       16519     14573  31092  0.468706  0.004127      0.414790   \n",
       "\n",
       "         pos_freq_cdf  pos_cdf_hmean  neg_rate  neg_freq  neg_rate_cdf  \\\n",
       "great        1.000000       0.969678  0.245571  0.001703      0.058859   \n",
       "hope         1.000000       0.792525  0.432114  0.003045      0.343651   \n",
       "invited      0.462015       0.268740  0.637993  0.000098      0.810524   \n",
       "state        0.538947       0.474046  0.527881  0.000157      0.576905   \n",
       "think        1.000000       0.586362  0.531294  0.004561      0.585210   \n",
       "\n",
       "         neg_freq_cdf  neg_cdf_hmean  \n",
       "great        0.999940       0.111173  \n",
       "hope         1.000000       0.511519  \n",
       "invited      0.498360       0.617217  \n",
       "state        0.554206       0.565328  \n",
       "think        1.000000       0.738338  "
      ]
     },
     "execution_count": 328,
     "metadata": {},
     "output_type": "execute_result"
    }
   ],
   "source": [
    "term_freq_df2.filter(items=[cvz.get_feature_names_out()[index] for  i, index in enumerate(X_Tran[392000].nonzero()[1])], axis=0)\n"
   ]
  },
  {
   "cell_type": "code",
   "execution_count": 289,
   "metadata": {},
   "outputs": [
    {
     "data": {
      "text/plain": [
       "400000"
      ]
     },
     "execution_count": 289,
     "metadata": {},
     "output_type": "execute_result"
    }
   ],
   "source": [
    "len(X_test)"
   ]
  },
  {
   "cell_type": "code",
   "execution_count": 369,
   "metadata": {},
   "outputs": [
    {
     "data": {
      "text/plain": [
       "<2589x10000 sparse matrix of type '<class 'numpy.int64'>'\n",
       "\twith 14747 stored elements in Compressed Sparse Row format>"
      ]
     },
     "execution_count": 369,
     "metadata": {},
     "output_type": "execute_result"
    }
   ],
   "source": [
    "X_Tran[390000:392589]"
   ]
  },
  {
   "cell_type": "code",
   "execution_count": 379,
   "metadata": {},
   "outputs": [],
   "source": [
    "y_pred=[]\n",
    "for k, X_ele in enumerate(X_Tran[390000:392589]):\n",
    "    y_pred.append(evaluation(term_freq_df2.filter(items=[cvz.get_feature_names_out()[index] for  i, index in enumerate(X_ele.nonzero()[1])], axis=0)))\n"
   ]
  },
  {
   "cell_type": "code",
   "execution_count": 343,
   "metadata": {},
   "outputs": [
    {
     "data": {
      "text/plain": [
       "2589"
      ]
     },
     "execution_count": 343,
     "metadata": {},
     "output_type": "execute_result"
    }
   ],
   "source": [
    "len(y_pred)"
   ]
  },
  {
   "cell_type": "code",
   "execution_count": 251,
   "metadata": {},
   "outputs": [],
   "source": [
    "from sklearn.metrics import accuracy_score"
   ]
  },
  {
   "cell_type": "code",
   "execution_count": 380,
   "metadata": {},
   "outputs": [],
   "source": [
    "sco = accuracy_score(y_test[390000:392589], y_pred)"
   ]
  },
  {
   "cell_type": "code",
   "execution_count": 381,
   "metadata": {},
   "outputs": [
    {
     "data": {
      "text/plain": [
       "0.7211278485901893"
      ]
     },
     "execution_count": 381,
     "metadata": {},
     "output_type": "execute_result"
    }
   ],
   "source": [
    "sco"
   ]
  }
 ],
 "metadata": {
  "kernelspec": {
   "display_name": "Python 3.9.5 64-bit",
   "language": "python",
   "name": "python3"
  },
  "language_info": {
   "codemirror_mode": {
    "name": "ipython",
    "version": 3
   },
   "file_extension": ".py",
   "mimetype": "text/x-python",
   "name": "python",
   "nbconvert_exporter": "python",
   "pygments_lexer": "ipython3",
   "version": "3.9.5"
  },
  "orig_nbformat": 4,
  "vscode": {
   "interpreter": {
    "hash": "2e3b6b0b99173f9265a096c919266c1e062fa40aa56c24545495bcfe878eb41d"
   }
  }
 },
 "nbformat": 4,
 "nbformat_minor": 2
}
